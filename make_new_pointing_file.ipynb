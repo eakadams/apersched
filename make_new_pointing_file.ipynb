{
 "cells": [
  {
   "cell_type": "markdown",
   "id": "8640200b",
   "metadata": {},
   "source": [
    "# Generate new pointing file with a priority list\n",
    "- this new file works with the hatlas scheduler script\n",
    "- this script can take a table with priority observations and generate a new pointing file where the priority fields are relabeled with 'm'"
   ]
  },
  {
   "cell_type": "code",
   "execution_count": 1,
   "id": "8abaf7e8",
   "metadata": {},
   "outputs": [],
   "source": [
    "from astropy.table import Table\n",
    "from astropy.io import ascii\n",
    "import numpy as np\n"
   ]
  },
  {
   "cell_type": "code",
   "execution_count": 2,
   "id": "53511495",
   "metadata": {},
   "outputs": [],
   "source": [
    "# read in pointing file with regular labels\n",
    "\n",
    "pointings=Table.read('ancillary_data/apertif_nov2021.txt',format='ascii.fixed_width')\n",
    "#pointings.keys()\n",
    "\n",
    "# read in file with priority list\n",
    "#reobs=Table.read('reobserve.txt',format='ascii')\n",
    "#reobs=Table.read('reobs_22nov2021.txt',format='ascii')\n",
    "#reobs=Table.read('reobserve_8dec21.txt',format='ascii')\n",
    "reobs=Table.read('../aperinfo/reobs_21feb2022.txt',format='ascii')\n"
   ]
  },
  {
   "cell_type": "code",
   "execution_count": 3,
   "id": "971f2b17",
   "metadata": {},
   "outputs": [],
   "source": [
    "# set all labels to 's'\n",
    "\n",
    "pointings['label'] = 's'\n",
    "#pointings['label']"
   ]
  },
  {
   "cell_type": "code",
   "execution_count": 4,
   "id": "1e5815f6",
   "metadata": {
    "scrolled": true
   },
   "outputs": [],
   "source": [
    "# set the label of priority fields to 'm'\n",
    "# after this cell all labels should be 's' and 'm'\n",
    "\n",
    "for i in range(len(reobs['Field'])):\n",
    "    pointings['label'][np.where(pointings['name'] == reobs['Field'][i])] = 'm'\n",
    "\n",
    "#pointings['label'][np.where(pointings['name'] == 'S0011+3130')] = 'm'   \n",
    "#pointings['label'][np.where(pointings['name'] == 'S0203+4340')] = 'm'    \n",
    "#pointings['label'][np.where(pointings['name'] == 'S1119+5324')] = 'm'    \n",
    "#pointings['label'][np.where(pointings['name'] == 'S0303+3622')] = 'm'    \n",
    "#pointings['label'][np.where(pointings['name'] == 'S0300+3848')] = 'm'    \n",
    "\n",
    "#pointings['label'][np.where(pointings['name'] == 'S2117+2904')] = 'm'  \n",
    "#pointings['label'][np.where(pointings['name'] == 'S0149+3848')] = 'm'\n",
    "#pointings['label'][np.where(pointings['name'] == 'S1041+5815')] = 'm'\n",
    "#pointings['label'][np.where(pointings['name'] == 'S2332+4340')] = 'm'\n",
    "\n",
    "#pointings['label'][np.where(pointings['name'] == 'M1259+2638')] = 'm'\n",
    "#pointings['label'][np.where(pointings['name'] == 'M1301+3356')] = 'm'\n",
    "#pointings['label'][np.where(pointings['name'] == 'M1248+3356')] = 'm'  # this has sub optimal C&D coverage\n",
    "#pointings['label'][np.where(pointings['name'] == 'M1243+3130')] = 'm'  # maybe\n",
    "\n",
    "pointings['label'][np.where(pointings['name'] == 'M2214+3130')] = 'm' #3 IHV\n",
    "\n",
    "#pointings['label'][np.where(pointings['name'] == 'S0103+3130')] = 'm'\n"
   ]
  },
  {
   "cell_type": "code",
   "execution_count": 5,
   "id": "5145ab96",
   "metadata": {},
   "outputs": [
    {
     "name": "stdout",
     "output_type": "stream",
     "text": [
      "   name           hmsdms                ra         ... label notes\n",
      "---------- -------------------- ------------------ ... ----- -----\n",
      "M2214+3130 22h14m46s +31d30m45s 333.69166666666666 ...     m    --\n",
      "S0005+3622 00h05m36s +36d22m36s 1.3999999999999997 ...     m fourt\n",
      "S0019+3622 00h19m19s +36d22m36s  4.829166666666666 ...     m    --\n",
      "S0033+3622 00h33m01s +36d22m36s  8.254166666666666 ...     m    --\n",
      "S0046+3622 00h46m44s +36d22m36s 11.683333333333334 ...     m    --\n",
      "S2204+3848 22h04m03s +38d48m32s 331.01249999999993 ...     m propo\n",
      "S0003+4114 00h03m24s +41d14m27s               0.85 ...     m sixth\n",
      "       ...                  ...                ... ...   ...   ...\n",
      "S1143+5815 11h43m34s +58d15m56s 175.89166666666665 ...     m    --\n",
      "S1204+5815 12h04m08s +58d15m56s  181.0333333333333 ...     m    --\n",
      "S1224+5815 12h24m42s +58d15m56s 186.17499999999998 ...     m    --\n",
      "S1407+5815 14h07m34s +58d15m56s 211.89166666666665 ...     m    --\n",
      "S1153+6041 11h53m16s +60d41m51s 178.31666666666666 ...     m    --\n",
      "S1215+6041 12h15m05s +60d41m51s 183.77083333333331 ...     m    --\n",
      "S1213+6307 12h13m18s +63d07m47s            183.325 ...     m    --\n",
      "Length = 19 rows\n"
     ]
    }
   ],
   "source": [
    "ind_reobserve = np.where(pointings['label'] == 'm')[0]\n",
    "\n",
    "print(pointings[ind_reobserve])"
   ]
  },
  {
   "cell_type": "code",
   "execution_count": 6,
   "id": "c0d8c9a4",
   "metadata": {},
   "outputs": [],
   "source": [
    "## write a pointing file with the new labels\n",
    "\n",
    "#pointings.write('ancillary_data/apertif_nov2021_CD.txt', format='ascii.fixed_width', overwrite=True)  "
   ]
  },
  {
   "cell_type": "code",
   "execution_count": 7,
   "id": "83e5f49f",
   "metadata": {},
   "outputs": [],
   "source": [
    "# write a pointing file that only has the priority fields\n",
    "\n",
    "pointings2 = pointings[pointings['label'] == 'm']\n",
    "pointings2.write('ancillary_data/apertif_2022feb21_reobserve.txt', format='ascii.fixed_width', overwrite=True)  "
   ]
  },
  {
   "cell_type": "code",
   "execution_count": null,
   "id": "c4b959cc",
   "metadata": {},
   "outputs": [],
   "source": [
    "    \n",
    "    "
   ]
  },
  {
   "cell_type": "code",
   "execution_count": null,
   "id": "c55e6765",
   "metadata": {},
   "outputs": [],
   "source": []
  }
 ],
 "metadata": {
  "kernelspec": {
   "display_name": "Python 3 (ipykernel)",
   "language": "python",
   "name": "python3"
  },
  "language_info": {
   "codemirror_mode": {
    "name": "ipython",
    "version": 3
   },
   "file_extension": ".py",
   "mimetype": "text/x-python",
   "name": "python",
   "nbconvert_exporter": "python",
   "pygments_lexer": "ipython3",
   "version": "3.7.12"
  }
 },
 "nbformat": 4,
 "nbformat_minor": 5
}
