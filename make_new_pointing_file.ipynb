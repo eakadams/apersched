{
 "cells": [
  {
   "cell_type": "markdown",
   "id": "8640200b",
   "metadata": {},
   "source": [
    "# Generate new pointing file with a priority list\n",
    "- this new file works with the hatlas scheduler script\n",
    "- this script can take a table with priority observations and generate a new pointing file where the priority fields are relabeled with 'm'"
   ]
  },
  {
   "cell_type": "code",
   "execution_count": 2,
   "id": "8abaf7e8",
   "metadata": {},
   "outputs": [],
   "source": [
    "from astropy.table import Table\n",
    "from astropy.io import ascii\n",
    "import numpy as np\n"
   ]
  },
  {
   "cell_type": "code",
   "execution_count": 4,
   "id": "53511495",
   "metadata": {},
   "outputs": [],
   "source": [
    "# read in pointing file with regular labels\n",
    "\n",
    "pointings=Table.read('ancillary_data/apertif_nov2021.txt',format='ascii.fixed_width')\n",
    "#pointings.keys()\n",
    "\n",
    "# read in file with priority list\n",
    "#reobs=Table.read('reobserve.txt',format='ascii')\n",
    "#reobs=Table.read('reobs_22nov2021.txt',format='ascii')\n",
    "#reobs=Table.read('reobserve_8dec21.txt',format='ascii')\n",
    "reobs=Table.read('reobserve_21jan6.txt',format='ascii')\n"
   ]
  },
  {
   "cell_type": "code",
   "execution_count": 7,
   "id": "971f2b17",
   "metadata": {},
   "outputs": [],
   "source": [
    "# set all labels to 's'\n",
    "\n",
    "pointings['label'] = 's'\n",
    "#pointings['label']"
   ]
  },
  {
   "cell_type": "code",
   "execution_count": 8,
   "id": "1e5815f6",
   "metadata": {
    "scrolled": true
   },
   "outputs": [],
   "source": [
    "# set the label of priority fields to 'm'\n",
    "# after this cell all labels should be 's' and 'm'\n",
    "\n",
    "for i in range(len(reobs['Field'])):\n",
    "    pointings['label'][np.where(pointings['name'] == reobs['Field'][i])] = 'm'\n",
    "\n",
    "#pointings['label'][np.where(pointings['name'] == 'S0011+3130')] = 'm'   \n",
    "#pointings['label'][np.where(pointings['name'] == 'S0203+4340')] = 'm'    \n",
    "#pointings['label'][np.where(pointings['name'] == 'S1119+5324')] = 'm'    \n",
    "#pointings['label'][np.where(pointings['name'] == 'S0303+3622')] = 'm'    \n",
    "#pointings['label'][np.where(pointings['name'] == 'S0300+3848')] = 'm'    \n",
    "\n",
    "#pointings['label'][np.where(pointings['name'] == 'S2117+2904')] = 'm'  \n",
    "#pointings['label'][np.where(pointings['name'] == 'S0149+3848')] = 'm'\n",
    "#pointings['label'][np.where(pointings['name'] == 'S1041+5815')] = 'm'\n",
    "#pointings['label'][np.where(pointings['name'] == 'S2332+4340')] = 'm'\n",
    "\n",
    "#pointings['label'][np.where(pointings['name'] == 'M1259+2638')] = 'm'\n",
    "#pointings['label'][np.where(pointings['name'] == 'M1301+3356')] = 'm'\n",
    "#pointings['label'][np.where(pointings['name'] == 'M1248+3356')] = 'm'  # this has sub optimal C&D coverage\n",
    "#pointings['label'][np.where(pointings['name'] == 'M1243+3130')] = 'm'  # maybe\n",
    "\n",
    "pointings['label'][np.where(pointings['name'] == 'M2214+3130')] = 'm' #3 IHV\n",
    "\n",
    "#pointings['label'][np.where(pointings['name'] == 'S0103+3130')] = 'm'\n"
   ]
  },
  {
   "cell_type": "code",
   "execution_count": 9,
   "id": "5145ab96",
   "metadata": {},
   "outputs": [
    {
     "name": "stdout",
     "output_type": "stream",
     "text": [
      "   name           hmsdms                ra         ... label notes\n",
      "---------- -------------------- ------------------ ... ----- -----\n",
      "S0104+2904 01h04m47s +29d04m49s 16.195833333333333 ...     m    --\n",
      "S0130+2904 01h30m03s +29d04m49s 22.512499999999996 ...     m    --\n",
      "S0233+2904 02h33m12s +29d04m49s               38.3 ...     m    --\n",
      "S0103+3130 01h03m25s +31d30m45s 15.854166666666664 ...     m    --\n",
      "M1243+3130 12h43m58s +31d30m45s 190.99166666666665 ...     m    --\n",
      "M2214+3130 22h14m46s +31d30m45s 333.69166666666666 ...     m    --\n",
      "M1301+3356 13h01m59s +33d56m40s  195.4958333333333 ...     m    --\n",
      "S2341+4832 23h41m45s +48d32m14s 355.43749999999994 ...     m    --\n",
      "S2358+4832 23h58m18s +48d32m14s 359.57499999999993 ...     m    --\n",
      "S2342+5058 23h42m05s +50d58m09s  355.5208333333333 ...     m    --\n",
      "S1439+5324 14h39m51s +53d24m05s 219.96249999999998 ...     m    --\n",
      "S1123+5550 11h23m00s +55d50m00s 170.74999999999997 ...     m    --\n",
      "S1041+5815 10h41m51s +58d15m56s 160.46249999999998 ...     m    --\n",
      "S1102+5815 11h02m25s +58d15m56s 165.60416666666666 ...     m    --\n",
      "S1428+5815 14h28m08s +58d15m56s  217.0333333333333 ...     m    --\n",
      "S1426+6041 14h26m00s +60d41m51s 216.49999999999997 ...     m    --\n"
     ]
    }
   ],
   "source": [
    "ind_reobserve = np.where(pointings['label'] == 'm')[0]\n",
    "\n",
    "print(pointings[ind_reobserve])"
   ]
  },
  {
   "cell_type": "code",
   "execution_count": 62,
   "id": "c0d8c9a4",
   "metadata": {},
   "outputs": [],
   "source": [
    "## write a pointing file with the new labels\n",
    "\n",
    "#pointings.write('ancillary_data/apertif_nov2021_CD.txt', format='ascii.fixed_width', overwrite=True)  "
   ]
  },
  {
   "cell_type": "code",
   "execution_count": 10,
   "id": "83e5f49f",
   "metadata": {},
   "outputs": [],
   "source": [
    "# write a pointing file that only has the priority fields\n",
    "\n",
    "pointings2 = pointings[pointings['label'] == 'm']\n",
    "pointings2.write('ancillary_data/apertif_jan2022_reobserve.txt', format='ascii.fixed_width', overwrite=True)  "
   ]
  },
  {
   "cell_type": "code",
   "execution_count": null,
   "id": "c4b959cc",
   "metadata": {},
   "outputs": [],
   "source": [
    "    \n",
    "    "
   ]
  },
  {
   "cell_type": "code",
   "execution_count": null,
   "id": "c55e6765",
   "metadata": {},
   "outputs": [],
   "source": []
  }
 ],
 "metadata": {
  "kernelspec": {
   "display_name": "Python 3",
   "language": "python",
   "name": "python3"
  },
  "language_info": {
   "codemirror_mode": {
    "name": "ipython",
    "version": 3
   },
   "file_extension": ".py",
   "mimetype": "text/x-python",
   "name": "python",
   "nbconvert_exporter": "python",
   "pygments_lexer": "ipython3",
   "version": "3.6.15"
  }
 },
 "nbformat": 4,
 "nbformat_minor": 5
}
